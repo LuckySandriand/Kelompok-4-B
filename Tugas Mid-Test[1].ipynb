{
 "cells": [
  {
   "cell_type": "markdown",
   "id": "14fbdfc2",
   "metadata": {},
   "source": [
    "# **I.Binomial Theorem and Sequences**\n"
   ]
  },
  {
   "cell_type": "markdown",
   "id": "9a3a8420",
   "metadata": {},
   "source": [
    "---"
   ]
  },
  {
   "cell_type": "markdown",
   "id": "222737f6",
   "metadata": {},
   "source": [
    "# I.1 Binomial Theorem \n"
   ]
  },
  {
   "cell_type": "markdown",
   "id": "29b38334",
   "metadata": {},
   "source": [
    "---"
   ]
  },
  {
   "cell_type": "markdown",
   "id": "f591fe0a",
   "metadata": {},
   "source": [
    "Binomial series merupakan deret (series) yang diperoleh dari perluasan (expansion) dari suatu bentuk berpangkat, yaitu bentuk seperti:\n",
    "```math\n",
    "(a + b)^n \n",
    "\\tag{1.1}\n",
    " "
   ]
  },
  {
   "cell_type": "markdown",
   "id": "b6616ffd",
   "metadata": {},
   "source": [
    "dimana a dan n adalah bilangan bulat positif, bilangan negatis, atau pecahan. Konsep ini penting karena banyak pada kasus di dunia teknik, fisika, maupun ekonomi sering untuk perlu menghitung atau memperkirakan nilai dari suatu berpangkat tanpa harus menghitung pangkat secara langsung, apalagi jika nilai berpangkatnya besar, negatif, atau pecahan."
   ]
  },
  {
   "cell_type": "markdown",
   "id": "7d8bde26",
   "metadata": {},
   "source": [
    "**I.1.1 Bentuk Umum**"
   ]
  },
  {
   "cell_type": "markdown",
   "id": "691b335f",
   "metadata": {},
   "source": [
    "Secara umum, bentuk binomial series dinyatakan dalam deret:\n",
    "\n",
    "```math\n",
    "(a + x)^n = a^n + n a^{n-1} x + \\frac{n(n-1)}{2!} a^{n-2} x^2 + \\frac{n(n-1)(n-2)}{3!} a^{n-3} x^3 + \\cdots\n",
    "\\tag{1.2}\n",
    "\n"
   ]
  },
  {
   "cell_type": "markdown",
   "id": "00e34414",
   "metadata": {},
   "source": [
    "- Jika n bilangan bulat positif, deret berhingga (finite series), yaitu sebanyak n+1 suku.\n",
    "- Jika n negatif atau pecahan deretnya, tak hingga (infinite series) dan hanya konvergen untuk |x| < |a|."
   ]
  },
  {
   "cell_type": "markdown",
   "id": "92087626",
   "metadata": {},
   "source": [
    "**I.1.2 Segitiga Pascal**\n",
    "\n",
    "Koefisien binomial dapat diperoleh lebih mudah dengan menggunakan **Segitiga Pascal**, dimana setiap bilangan diperoleh dari perjumlahan dua bilangan di atasnya. Misalnya:\n",
    "\n",
    "- Baris ke-0 = 1\n",
    "- Baris ke-1 = 1 1\n",
    "- Baris ke-2 = 1 2 1\n",
    "- Baris ke-3 = 1 3 3 1\n",
    "dan seterusnya\n",
    "\n",
    "contonya:\n",
    "```math\n",
    "\n",
    "(a + b)^4 = 1a^4b^0 + 4a^3b^1 + 6a^2b^2 + 4a^1b^3 + 1a^0b^4\n",
    "\\tag{1.3}\n"
   ]
  },
  {
   "cell_type": "markdown",
   "id": "6dc4e007",
   "metadata": {},
   "source": [
    "Koefisiennya (1,4,6,4,1) adalah baris ke-4 pada segitiga pascal"
   ]
  },
  {
   "cell_type": "markdown",
   "id": "30d41e8b",
   "metadata": {},
   "source": [
    "**I.1.3 Faktorial**\n",
    "\n",
    "Faktorial adalah operasi matematika yang melibatkan perkalian deret bilangan bulat positif dari 1 hingga n. Faktorial dari suatu bilangan `n` dilambangkan dengan `n!`"
   ]
  },
  {
   "cell_type": "markdown",
   "id": "4e1cb684",
   "metadata": {},
   "source": [
    "jika n adalah bilangan positif, maka:\n",
    "\n",
    "```math\n",
    "n! = n x (n-1) x (n-2) x .. x 2 x 1"
   ]
  },
  {
   "cell_type": "markdown",
   "id": "fae9538c",
   "metadata": {},
   "source": [
    "dengan secara khusus:\n",
    "```math\n",
    "0! = 1"
   ]
  },
  {
   "cell_type": "markdown",
   "id": "04a8df89",
   "metadata": {},
   "source": [
    "nilai 0 didefinisikan sebagai 1 karena alasan matematis dan konsistensi dalam rumus kombinatorika."
   ]
  },
  {
   "cell_type": "markdown",
   "id": "773f05fb",
   "metadata": {},
   "source": [
    "Teorema binomial sering diaplikasikan dalam model-model fisika kebumian yang melibatkan perpangkatan suku-suku kecil, seperti dalam perhitungan distribusi tekanan, perhitungan estimasi energi, atau perluasan fungsi eksponensial dalam perhitungan suhu bumi."
   ]
  },
  {
   "cell_type": "markdown",
   "id": "add0dd04",
   "metadata": {},
   "source": [
    "# I.2 Sequences (Barisan)\n"
   ]
  },
  {
   "cell_type": "markdown",
   "id": "129b65fd",
   "metadata": {},
   "source": [
    "---"
   ]
  },
  {
   "cell_type": "markdown",
   "id": "9b41d827",
   "metadata": {},
   "source": [
    "**Barisan** atau **barisan** merupakan susunan bilangan yang tersusun secara berurutan sesuai aturan tertentu. Barisan digunakan untuk menggambarkan pola perubahan suatu variabel dalam deret waktu atau posisi, yang sangat umum ditemui dalam pengamatan geosains.\n",
    "\n",
    "**I.2.1. Jenis-jenis Barisan**\n",
    "\n",
    "**1. Barisan Aritmatika**\n",
    "    Yaitu barisan bilangan dimana beda antar suku-suku berurutan selalu tetap.\n",
    "    Contoh: 2,5,8,11,14     (beda = 3)\n",
    "\n",
    "**2. Barisan Geometri**\n",
    "    Yaitu barisan bilangan di mana rasio antar suku-suku berurutan tetap.\n",
    "    Contoh: 2,4,8,16,32     (rasio = 2)\n",
    "\n",
    "**I.2.2. Fibonacci Sequence**\n",
    "\n",
    "Barisan yang sangat dikenal dengan banyak digunakan dalam pemodelan proses alami adalah **barisan fibonacci**. Rumusnya:\n",
    "```math\n",
    "\n",
    "F_n = F_{n-1} + F_{n-2}\n",
    "\\tag{1.4}"
   ]
  },
  {
   "cell_type": "markdown",
   "id": "3f75c8f6",
   "metadata": {},
   "source": [
    "dengan nilai awal \n",
    "```math\n",
    "F_0 = 0\n",
    "\n"
   ]
  },
  {
   "cell_type": "markdown",
   "id": "9363a562",
   "metadata": {},
   "source": [
    "dan \n",
    "```math\n",
    "F_1 = 1"
   ]
  },
  {
   "cell_type": "markdown",
   "id": "1c8bbd15",
   "metadata": {},
   "source": [
    "Barisan fibonacci banyak digunakan untuk memodelkan pola-pola pertumbuhan alami, distribusi jumlah spesies, hingga distribusi energi dalam sistem geologi.\n",
    "\n",
    "**I.2.3. Deret (Sum of a Series)**\n",
    "\n",
    "Jumlah suku-suku dalam barisan disebut juga sebagai **deret**\n",
    "\n",
    "- Deret Aritmatika:\n",
    "\n",
    "```math\n",
    "\n",
    "S_n =\\frac{n}{2} (a + 1)\n",
    "\\tag{1.5}"
   ]
  },
  {
   "cell_type": "markdown",
   "id": "cb5bace8",
   "metadata": {},
   "source": [
    "atau\n",
    "```math\n",
    "\n",
    "S_n =\\frac{n}{2}(2a + (n-1)d)\n",
    "\\tag{1.6}"
   ]
  },
  {
   "cell_type": "markdown",
   "id": "96ec77dc",
   "metadata": {},
   "source": [
    "- Deret Geometri:\n",
    "```math\n",
    "S_n = a \\frac{(r^n - 1)}{r - 1}\n",
    "\\tag{1.7}\n"
   ]
  },
  {
   "cell_type": "markdown",
   "id": "2e944955",
   "metadata": {},
   "source": [
    "**I.2.4. Deret Tak Hingga (Infinite Series)**\n",
    "\n",
    "Pada deret geometri tak hingga dengan rasio |r| < 1, jumlah total deret dihitung dengan:\n",
    "\n",
    "```math\n",
    "\n",
    "S =\\frac{a}{1-r}\n",
    "\\tag{1.8}"
   ]
  },
  {
   "cell_type": "markdown",
   "id": "eb33e800",
   "metadata": {},
   "source": [
    "Deret tak hingga ini banyak digunakan dalam perhitungan nilai eksponensial yang berhubungan dengan perubahan suhu, peluruhan isotop radioaktif, maupun estimasi gempa bumi di masa depan."
   ]
  },
  {
   "cell_type": "markdown",
   "id": "7f92612a",
   "metadata": {},
   "source": [
    "**Contoh Soal**"
   ]
  },
  {
   "cell_type": "markdown",
   "id": "a35fd275",
   "metadata": {},
   "source": [
    "**Soal 1**\n",
    "\n",
    "Tentukan determinan dari\n",
    "```math\n",
    "\n",
    "(2a - 5b)^8"
   ]
  },
  {
   "cell_type": "code",
   "execution_count": 25,
   "id": "36b60ec5",
   "metadata": {},
   "outputs": [
    {
     "name": "stdout",
     "output_type": "stream",
     "text": [
      "        4  4\n",
      "700000⋅a ⋅b \n"
     ]
    }
   ],
   "source": [
    "from sympy import symbols, binomial, simplify\n",
    "\n",
    "a, b = symbols('a b')\n",
    "n = 8\n",
    "A = 2 * a\n",
    "B = -5 * b\n",
    "\n",
    "# Tentukan middle term (r = 4 untuk suku ke-5)\n",
    "r = 4\n",
    "\n",
    "result = binomial(n, r) * (A)**(n - r) * (B)**r\n",
    "\n",
    "result = simplify(result)\n",
    "\n",
    "# Tampilkan hasil\n",
    "sp.pprint(result)\n"
   ]
  }
 ],
 "metadata": {
  "kernelspec": {
   "display_name": "Python 3",
   "language": "python",
   "name": "python3"
  },
  "language_info": {
   "codemirror_mode": {
    "name": "ipython",
    "version": 3
   },
   "file_extension": ".py",
   "mimetype": "text/x-python",
   "name": "python",
   "nbconvert_exporter": "python",
   "pygments_lexer": "ipython3",
   "version": "3.13.2"
  }
 },
 "nbformat": 4,
 "nbformat_minor": 5
}
